{
  "nbformat": 4,
  "nbformat_minor": 0,
  "metadata": {
    "colab": {
      "provenance": [],
      "authorship_tag": "ABX9TyNCabqUHz0LJR0/AMgleZLF",
      "include_colab_link": true
    },
    "kernelspec": {
      "name": "python3",
      "display_name": "Python 3"
    },
    "language_info": {
      "name": "python"
    }
  },
  "cells": [
    {
      "cell_type": "markdown",
      "metadata": {
        "id": "view-in-github",
        "colab_type": "text"
      },
      "source": [
        "<a href=\"https://colab.research.google.com/github/sachinthadilshann/TensorFlow_for_Deep_Learning_Bootcamp_Udemy/blob/main/05_transfer_learning_in_tensorflow_part_2_feature_extraction.ipynb\" target=\"_parent\"><img src=\"https://colab.research.google.com/assets/colab-badge.svg\" alt=\"Open In Colab\"/></a>"
      ]
    },
    {
      "cell_type": "code",
      "source": [
        "!wget https://raw.githubusercontent.com/sachinthadilshann/TensorFlow_for_Deep_Learning_Bootcamp_Udemy/15a269df7d105222999c850ce9fa956af7610972/helper_functions.py\n",
        "\n"
      ],
      "metadata": {
        "id": "F3v7DGDJql4_",
        "colab": {
          "base_uri": "https://localhost:8080/"
        },
        "outputId": "2a7b2fb0-8dba-4a94-c429-4f3afaaa6692"
      },
      "execution_count": 1,
      "outputs": [
        {
          "output_type": "stream",
          "name": "stdout",
          "text": [
            "--2025-03-18 06:59:12--  https://raw.githubusercontent.com/sachinthadilshann/TensorFlow_for_Deep_Learning_Bootcamp_Udemy/15a269df7d105222999c850ce9fa956af7610972/helper_functions.py\n",
            "Resolving raw.githubusercontent.com (raw.githubusercontent.com)... 185.199.108.133, 185.199.109.133, 185.199.110.133, ...\n",
            "Connecting to raw.githubusercontent.com (raw.githubusercontent.com)|185.199.108.133|:443... connected.\n",
            "HTTP request sent, awaiting response... 200 OK\n",
            "Length: 5351 (5.2K) [text/plain]\n",
            "Saving to: ‘helper_functions.py’\n",
            "\n",
            "helper_functions.py 100%[===================>]   5.23K  --.-KB/s    in 0s      \n",
            "\n",
            "2025-03-18 06:59:12 (76.6 MB/s) - ‘helper_functions.py’ saved [5351/5351]\n",
            "\n"
          ]
        }
      ]
    },
    {
      "cell_type": "code",
      "source": [
        "from helper_functions import unzip_data, create_tensorboard_callback, plot_loss_curves, compare_historys, walk_through_dir"
      ],
      "metadata": {
        "id": "AG_myCJfno3n"
      },
      "execution_count": 2,
      "outputs": []
    },
    {
      "cell_type": "code",
      "source": [
        "!wget https://storage.googleapis.com/ztm_tf_course/food_vision/10_food_classes_10_percent.zip\n",
        "\n",
        "unzip_data(\"10_food_classes_10_percent.zip\")"
      ],
      "metadata": {
        "colab": {
          "base_uri": "https://localhost:8080/"
        },
        "id": "Ny9Qsb8KDWL2",
        "outputId": "c96a1d2a-540c-414b-c621-e9f676282bb3"
      },
      "execution_count": 3,
      "outputs": [
        {
          "output_type": "stream",
          "name": "stdout",
          "text": [
            "--2025-03-18 06:59:22--  https://storage.googleapis.com/ztm_tf_course/food_vision/10_food_classes_10_percent.zip\n",
            "Resolving storage.googleapis.com (storage.googleapis.com)... 108.177.96.207, 108.177.119.207, 108.177.127.207, ...\n",
            "Connecting to storage.googleapis.com (storage.googleapis.com)|108.177.96.207|:443... connected.\n",
            "HTTP request sent, awaiting response... 200 OK\n",
            "Length: 168546183 (161M) [application/zip]\n",
            "Saving to: ‘10_food_classes_10_percent.zip’\n",
            "\n",
            "10_food_classes_10_ 100%[===================>] 160.74M  41.7MB/s    in 4.5s    \n",
            "\n",
            "2025-03-18 06:59:27 (35.6 MB/s) - ‘10_food_classes_10_percent.zip’ saved [168546183/168546183]\n",
            "\n"
          ]
        }
      ]
    },
    {
      "cell_type": "code",
      "source": [
        "walk_through_dir(\"10_food_classes_10_percent\")"
      ],
      "metadata": {
        "colab": {
          "base_uri": "https://localhost:8080/"
        },
        "id": "g2UpaQ0UEvMw",
        "outputId": "09820f69-9b3b-4836-f722-71711f5a71b6"
      },
      "execution_count": 4,
      "outputs": [
        {
          "output_type": "stream",
          "name": "stdout",
          "text": [
            "There are 2 directories and 0 images in '10_food_classes_10_percent'.\n",
            "There are 10 directories and 0 images in '10_food_classes_10_percent/test'.\n",
            "There are 0 directories and 250 images in '10_food_classes_10_percent/test/chicken_wings'.\n",
            "There are 0 directories and 250 images in '10_food_classes_10_percent/test/fried_rice'.\n",
            "There are 0 directories and 250 images in '10_food_classes_10_percent/test/hamburger'.\n",
            "There are 0 directories and 250 images in '10_food_classes_10_percent/test/sushi'.\n",
            "There are 0 directories and 250 images in '10_food_classes_10_percent/test/ramen'.\n",
            "There are 0 directories and 250 images in '10_food_classes_10_percent/test/chicken_curry'.\n",
            "There are 0 directories and 250 images in '10_food_classes_10_percent/test/ice_cream'.\n",
            "There are 0 directories and 250 images in '10_food_classes_10_percent/test/grilled_salmon'.\n",
            "There are 0 directories and 250 images in '10_food_classes_10_percent/test/pizza'.\n",
            "There are 0 directories and 250 images in '10_food_classes_10_percent/test/steak'.\n",
            "There are 10 directories and 0 images in '10_food_classes_10_percent/train'.\n",
            "There are 0 directories and 75 images in '10_food_classes_10_percent/train/chicken_wings'.\n",
            "There are 0 directories and 75 images in '10_food_classes_10_percent/train/fried_rice'.\n",
            "There are 0 directories and 75 images in '10_food_classes_10_percent/train/hamburger'.\n",
            "There are 0 directories and 75 images in '10_food_classes_10_percent/train/sushi'.\n",
            "There are 0 directories and 75 images in '10_food_classes_10_percent/train/ramen'.\n",
            "There are 0 directories and 75 images in '10_food_classes_10_percent/train/chicken_curry'.\n",
            "There are 0 directories and 75 images in '10_food_classes_10_percent/train/ice_cream'.\n",
            "There are 0 directories and 75 images in '10_food_classes_10_percent/train/grilled_salmon'.\n",
            "There are 0 directories and 75 images in '10_food_classes_10_percent/train/pizza'.\n",
            "There are 0 directories and 75 images in '10_food_classes_10_percent/train/steak'.\n"
          ]
        }
      ]
    },
    {
      "cell_type": "code",
      "source": [
        "train_dir = \"10_food_classes_10_percent/train/\"\n",
        "test_dir = \"10_food_classes_10_percent/test/\""
      ],
      "metadata": {
        "id": "24vkapUXFsTL"
      },
      "execution_count": 7,
      "outputs": []
    },
    {
      "cell_type": "code",
      "source": [
        "import tensorflow as tf"
      ],
      "metadata": {
        "id": "38Kfn2PFH3i6"
      },
      "execution_count": 8,
      "outputs": []
    },
    {
      "cell_type": "code",
      "source": [
        "IMG_SIZE = (224,224)\n",
        "BATCH_SIZE = 32\n",
        "train_data_10_percent = tf.keras.preprocessing.image_dataset_from_directory(train_dir,\n",
        "                                                                           label_mode=\"categorical\",\n",
        "                                                                           image_size=IMG_SIZE,\n",
        "                                                                            batch_size = BATCH_SIZE)\n",
        "test_data = tf.keras.preprocessing.image_dataset_from_directory(test_dir,\n",
        "                                                                label_mode=\"categorical\",\n",
        "                                                                image_size=IMG_SIZE,\n",
        "                                                                batch_size = BATCH_SIZE)\n",
        ""
      ],
      "metadata": {
        "colab": {
          "base_uri": "https://localhost:8080/"
        },
        "id": "Js4vjIyII8Bu",
        "outputId": "1e31ee53-3816-4cf1-c6b6-9b82bd45bde6"
      },
      "execution_count": 9,
      "outputs": [
        {
          "output_type": "stream",
          "name": "stdout",
          "text": [
            "Found 750 files belonging to 10 classes.\n",
            "Found 2500 files belonging to 10 classes.\n"
          ]
        }
      ]
    },
    {
      "cell_type": "code",
      "source": [
        "train_data_10_percent"
      ],
      "metadata": {
        "colab": {
          "base_uri": "https://localhost:8080/"
        },
        "id": "v4LOtsVjI8bW",
        "outputId": "bdfd0b09-5530-4f06-cd73-59948379e8bd"
      },
      "execution_count": 10,
      "outputs": [
        {
          "output_type": "execute_result",
          "data": {
            "text/plain": [
              "<_PrefetchDataset element_spec=(TensorSpec(shape=(None, 224, 224, 3), dtype=tf.float32, name=None), TensorSpec(shape=(None, 10), dtype=tf.float32, name=None))>"
            ]
          },
          "metadata": {},
          "execution_count": 10
        }
      ]
    },
    {
      "cell_type": "code",
      "source": [
        "train_data_10_percent.class_names"
      ],
      "metadata": {
        "colab": {
          "base_uri": "https://localhost:8080/"
        },
        "id": "Zcc6kgY8I-pi",
        "outputId": "5d7e4117-3682-42f4-9e3b-54abd1da1564"
      },
      "execution_count": 11,
      "outputs": [
        {
          "output_type": "execute_result",
          "data": {
            "text/plain": [
              "['chicken_curry',\n",
              " 'chicken_wings',\n",
              " 'fried_rice',\n",
              " 'grilled_salmon',\n",
              " 'hamburger',\n",
              " 'ice_cream',\n",
              " 'pizza',\n",
              " 'ramen',\n",
              " 'steak',\n",
              " 'sushi']"
            ]
          },
          "metadata": {},
          "execution_count": 11
        }
      ]
    },
    {
      "cell_type": "code",
      "source": [
        "for images, lables in train_data_10_percent.take(1):\n",
        "  print(images,lables)"
      ],
      "metadata": {
        "colab": {
          "base_uri": "https://localhost:8080/"
        },
        "id": "5u68eC73J85W",
        "outputId": "5e889c78-7028-476e-8c68-eb6025498118"
      },
      "execution_count": 12,
      "outputs": [
        {
          "output_type": "stream",
          "name": "stdout",
          "text": [
            "tf.Tensor(\n",
            "[[[[ 84.67857    36.464287    9.948978 ]\n",
            "   [206.1531    182.05617   172.23984  ]\n",
            "   [253.89796   253.83163   254.84694  ]\n",
            "   ...\n",
            "   [ 89.70412    60.13265     6.989702 ]\n",
            "   [ 94.122574   63.09706     6.046031 ]\n",
            "   [119.87275    87.15846    26.158464 ]]\n",
            "\n",
            "  [[ 87.58164    58.770424   50.92859  ]\n",
            "   [254.65306   244.30103   243.79082  ]\n",
            "   [250.2551    249.71428   254.2704   ]\n",
            "   ...\n",
            "   [ 88.086716   61.270367    7.142727 ]\n",
            "   [ 94.43381    65.29095     7.362378 ]\n",
            "   [124.97491    94.83205    32.90348  ]]\n",
            "\n",
            "  [[217.41328   214.93369   216.93369  ]\n",
            "   [252.69897   251.7449    250.53062  ]\n",
            "   [254.0051    254.38776   251.53061  ]\n",
            "   ...\n",
            "   [ 89.12246    68.00002     5.596856 ]\n",
            "   [ 98.87253    74.2858      7.826604 ]\n",
            "   [123.14842    96.791275   27.14842  ]]\n",
            "\n",
            "  ...\n",
            "\n",
            "  [[254.        254.        254.       ]\n",
            "   [254.        254.        254.       ]\n",
            "   [254.        254.        254.       ]\n",
            "   ...\n",
            "   [252.33672   252.        215.23476  ]\n",
            "   [253.42853   252.7296    218.68375  ]\n",
            "   [254.21426   252.86226   222.21947  ]]\n",
            "\n",
            "  [[254.        254.        254.       ]\n",
            "   [254.        254.        254.       ]\n",
            "   [254.        254.        254.       ]\n",
            "   ...\n",
            "   [252.95917   253.05614   227.01543  ]\n",
            "   [253.93365   253.07144   232.64807  ]\n",
            "   [252.4031    253.47455   235.97464  ]]\n",
            "\n",
            "  [[254.        254.        254.       ]\n",
            "   [254.        254.        254.       ]\n",
            "   [254.        254.        254.       ]\n",
            "   ...\n",
            "   [253.85709   254.648     241.50526  ]\n",
            "   [253.42862   254.4031    247.73999  ]\n",
            "   [254.        254.7704    252.24509  ]]]\n",
            "\n",
            "\n",
            " [[[ 49.658165   34.30102    16.372448 ]\n",
            "   [ 52.489796   38.41837    11.704081 ]\n",
            "   [ 51.642857   40.857143   11.882652 ]\n",
            "   ...\n",
            "   [196.14288   144.14288    94.142876 ]\n",
            "   [193.2857    141.2857     91.2857   ]\n",
            "   [193.35715   141.35715    91.35714  ]]\n",
            "\n",
            "  [[ 54.642857   39.285713   21.35714  ]\n",
            "   [ 53.168365   39.096935   13.244897 ]\n",
            "   [ 64.58673    53.40306    26.244896 ]\n",
            "   ...\n",
            "   [195.92857   143.92857    93.92857  ]\n",
            "   [193.92346   141.92346    91.92347  ]\n",
            "   [194.26024   142.26024    92.26024  ]]\n",
            "\n",
            "  [[ 40.112244   23.250002    3.3979597]\n",
            "   [ 39.90816    24.693876    1.6938769]\n",
            "   [ 38.209183   23.637754    1.9234694]\n",
            "   ...\n",
            "   [197.40308   145.61737    94.9745   ]\n",
            "   [196.51529   144.72958    94.08672  ]\n",
            "   [197.1429    145.35718    94.71432  ]]\n",
            "\n",
            "  ...\n",
            "\n",
            "  [[105.98983    86.98983    54.989834 ]\n",
            "   [105.984695   86.984695   54.984695 ]\n",
            "   [104.52551    85.52551    53.525513 ]\n",
            "   ...\n",
            "   [ 43.224327   18.867424    8.295953 ]\n",
            "   [ 50.47957    24.795887   17.867329 ]\n",
            "   [ 64.97495    29.990067   28.05645  ]]\n",
            "\n",
            "  [[107.2857     86.2857     55.2857   ]\n",
            "   [105.92856    86.92856    54.92856  ]\n",
            "   [107.78571    88.78571    56.785713 ]\n",
            "   ...\n",
            "   [ 44.663216   19.637636   12.127515 ]\n",
            "   [ 59.80134    29.234911   21.097132 ]\n",
            "   [ 80.791      41.14809    34.2195   ]]\n",
            "\n",
            "  [[106.65829    85.65829    54.65829  ]\n",
            "   [106.357285   87.357285   55.357285 ]\n",
            "   [106.99496    88.63782    56.42353  ]\n",
            "   ...\n",
            "   [ 63.015907   31.816757   29.378052 ]\n",
            "   [ 81.5362     42.224945   34.582    ]\n",
            "   [116.55197    79.13875    64.12326  ]]]\n",
            "\n",
            "\n",
            " [[[ 54.127552   40.357143   30.071428 ]\n",
            "   [ 52.785713   38.87755    36.091835 ]\n",
            "   [ 48.65306    36.5        39.642857 ]\n",
            "   ...\n",
            "   [ 33.42343    28.637726   26.219381 ]\n",
            "   [ 29.071411   25.071411   24.785696 ]\n",
            "   [ 26.943884   22.586742   24.65817  ]]\n",
            "\n",
            "  [[ 54.862244   43.5        32.239796 ]\n",
            "   [ 53.066326   42.066326   36.15306  ]\n",
            "   [ 54.459183   44.530613   44.34694  ]\n",
            "   ...\n",
            "   [ 33.382668   28.811258   22.73982  ]\n",
            "   [ 37.438828   34.372498   29.372534 ]\n",
            "   [ 31.54594    28.474512   23.760225 ]]\n",
            "\n",
            "  [[ 58.57653    51.510204   36.505104 ]\n",
            "   [ 56.5        48.857143   37.92857  ]\n",
            "   [ 58.83163    50.877552   46.469387 ]\n",
            "   ...\n",
            "   [ 34.73981    30.785723   22.382687 ]\n",
            "   [ 36.142857   31.571428   25.75511  ]\n",
            "   [ 27.918396   22.918396   17.346968 ]]\n",
            "\n",
            "  ...\n",
            "\n",
            "  [[ 24.066357   19.066357   15.928616 ]\n",
            "   [ 24.387796   18.387796   18.530653 ]\n",
            "   [ 19.362194   13.979558   17.550987 ]\n",
            "   ...\n",
            "   [ 27.642761   21.214264   20.785645 ]\n",
            "   [ 23.1427     17.499908   14.714172 ]\n",
            "   [ 20.918211   12.489683   10.489683 ]]\n",
            "\n",
            "  [[ 22.979523   20.163218   18.83669  ]\n",
            "   [ 28.29583    24.372387   25.724453 ]\n",
            "   [ 21.938753   16.98468    22.627548 ]\n",
            "   ...\n",
            "   [ 25.         19.928558   27.056162 ]\n",
            "   [ 22.280573   17.209131   23.494898 ]\n",
            "   [ 19.663324   14.663325   18.87765  ]]\n",
            "\n",
            "  [[ 18.015503   18.015503   18.015503 ]\n",
            "   [ 18.234724   16.234724   20.04091  ]\n",
            "   [ 16.137749   13.352034   20.484741 ]\n",
            "   ...\n",
            "   [ 22.632624   18.632624   32.9898   ]\n",
            "   [ 19.428467   15.428467   29.785645 ]\n",
            "   [ 22.030575   18.673397   30.74493  ]]]\n",
            "\n",
            "\n",
            " ...\n",
            "\n",
            "\n",
            " [[[194.84996   157.4214    157.77853  ]\n",
            "   [223.08067   186.5652    186.56505  ]\n",
            "   [249.10475   216.95822   216.67252  ]\n",
            "   ...\n",
            "   [104.34604    87.64822    88.90538  ]\n",
            "   [ 91.81036    81.26992    80.09593  ]\n",
            "   [ 89.49474    79.73295    78.137596 ]]\n",
            "\n",
            "  [[236.57097   216.17157   214.65546  ]\n",
            "   [238.8841    218.72514   216.48773  ]\n",
            "   [248.47003   228.75879   225.17825  ]\n",
            "   ...\n",
            "   [ 93.62415    79.854904   79.984215 ]\n",
            "   [ 87.04811    79.37279    79.75398  ]\n",
            "   [ 85.97353    79.81218    79.83067  ]]\n",
            "\n",
            "  [[252.83833   251.31999   246.2803   ]\n",
            "   [252.39      252.7551    247.65993  ]\n",
            "   [252.10747   250.35252   245.35252  ]\n",
            "   ...\n",
            "   [ 86.183495   72.55184    71.69918  ]\n",
            "   [ 83.65098    76.68166    77.58648  ]\n",
            "   [ 84.84374    80.41517    81.20088  ]]\n",
            "\n",
            "  ...\n",
            "\n",
            "  [[118.17457   123.17457   100.17457  ]\n",
            "   [117.563286  122.563286   99.563286 ]\n",
            "   [116.287926  121.287926   98.287926 ]\n",
            "   ...\n",
            "   [  0.         48.131554   62.07367  ]\n",
            "   [  0.         49.785736   63.       ]\n",
            "   [  0.         49.785736   63.       ]]\n",
            "\n",
            "  [[115.07144   120.07144    98.07144  ]\n",
            "   [114.55535   119.55535    97.55535  ]\n",
            "   [114.14288   119.14288    97.14288  ]\n",
            "   ...\n",
            "   [  0.         49.224045   62.21878  ]\n",
            "   [  0.         51.555363   64.07144  ]\n",
            "   [  0.         52.07144    64.07144  ]]\n",
            "\n",
            "  [[114.76192   119.76192    97.76192  ]\n",
            "   [115.48416   120.48416    98.48416  ]\n",
            "   [116.56916   121.56916    99.56916  ]\n",
            "   ...\n",
            "   [  0.         51.14734    64.07367  ]\n",
            "   [  0.         53.         65.       ]\n",
            "   [  0.         53.         65.       ]]]\n",
            "\n",
            "\n",
            " [[[ 90.1215     45.12149    39.89477  ]\n",
            "   [ 92.633934   48.5625     39.776783 ]\n",
            "   [ 96.42825    49.64254    38.99968  ]\n",
            "   ...\n",
            "   [252.        244.71017   176.07982  ]\n",
            "   [250.64732   245.64732   181.64732  ]\n",
            "   [249.29015   244.29015   180.29015  ]]\n",
            "\n",
            "  [[ 93.758934   48.796238   42.68431  ]\n",
            "   [ 96.04465    51.97736    43.071426 ]\n",
            "   [ 99.11607    52.375957   41.571426 ]\n",
            "   ...\n",
            "   [252.15623   244.6821    176.6295   ]\n",
            "   [248.87881   243.87881   179.87881  ]\n",
            "   [248.05803   242.05803   180.05803  ]]\n",
            "\n",
            "  [[ 97.16965    53.08514    43.357143 ]\n",
            "   [ 98.69196    54.691967   43.725765 ]\n",
            "   [100.563774   55.763393   42.33482  ]\n",
            "   ...\n",
            "   [250.45087   242.2366    176.80807  ]\n",
            "   [250.36162   243.07144   180.59822  ]\n",
            "   [250.52678   244.52678   184.05357  ]]\n",
            "\n",
            "  ...\n",
            "\n",
            "  [[ 32.437267   23.72737    36.964    ]\n",
            "   [ 32.56054    24.560537   36.033806 ]\n",
            "   [ 37.187057   29.829918   39.972775 ]\n",
            "   ...\n",
            "   [219.87943   222.23663   231.4509   ]\n",
            "   [216.92856   219.92856   228.92856  ]\n",
            "   [215.        218.        227.       ]]\n",
            "\n",
            "  [[ 35.941986   24.941986   38.941986 ]\n",
            "   [ 31.142857   23.142857   34.39345  ]\n",
            "   [ 31.557032   24.94002    32.86248  ]\n",
            "   ...\n",
            "   [219.7008    222.05801   231.27228  ]\n",
            "   [216.86127   219.86127   228.86127  ]\n",
            "   [214.05801   217.05801   226.05801  ]]\n",
            "\n",
            "  [[ 33.057983   22.057983   36.057983 ]\n",
            "   [ 31.77675    21.77675    32.77675  ]\n",
            "   [ 31.075571   24.50414    32.151142 ]\n",
            "   ...\n",
            "   [217.78119   220.1384    229.35266  ]\n",
            "   [215.25603   218.25603   227.25603  ]\n",
            "   [211.99548   214.99548   223.99548  ]]]\n",
            "\n",
            "\n",
            " [[[  0.          0.          2.       ]\n",
            "   [  0.          0.          2.       ]\n",
            "   [  0.          0.          2.       ]\n",
            "   ...\n",
            "   [  0.          0.          2.       ]\n",
            "   [  0.          0.          2.       ]\n",
            "   [  0.          0.          2.       ]]\n",
            "\n",
            "  [[  0.          0.          2.       ]\n",
            "   [  0.          0.          2.       ]\n",
            "   [  0.          0.          2.       ]\n",
            "   ...\n",
            "   [  0.          0.          2.       ]\n",
            "   [  0.          0.          2.       ]\n",
            "   [  0.          0.          2.       ]]\n",
            "\n",
            "  [[  0.          0.          2.       ]\n",
            "   [  0.          0.          2.       ]\n",
            "   [  0.          0.          2.       ]\n",
            "   ...\n",
            "   [  0.          0.          2.       ]\n",
            "   [  0.          0.          2.       ]\n",
            "   [  0.          0.          2.       ]]\n",
            "\n",
            "  ...\n",
            "\n",
            "  [[  0.          0.          2.       ]\n",
            "   [  0.          0.          2.       ]\n",
            "   [  0.          0.          2.       ]\n",
            "   ...\n",
            "   [  0.          0.          2.       ]\n",
            "   [  0.          0.          2.       ]\n",
            "   [  0.          0.          2.       ]]\n",
            "\n",
            "  [[  0.          0.          2.       ]\n",
            "   [  0.          0.          2.       ]\n",
            "   [  0.          0.          2.       ]\n",
            "   ...\n",
            "   [  0.          0.          2.       ]\n",
            "   [  0.          0.          2.       ]\n",
            "   [  0.          0.          2.       ]]\n",
            "\n",
            "  [[  0.          0.          2.       ]\n",
            "   [  0.          0.          2.       ]\n",
            "   [  0.          0.          2.       ]\n",
            "   ...\n",
            "   [  0.          0.          2.       ]\n",
            "   [  0.          0.          2.       ]\n",
            "   [  0.          0.          2.       ]]]], shape=(32, 224, 224, 3), dtype=float32) tf.Tensor(\n",
            "[[1. 0. 0. 0. 0. 0. 0. 0. 0. 0.]\n",
            " [0. 0. 0. 0. 0. 0. 0. 1. 0. 0.]\n",
            " [0. 1. 0. 0. 0. 0. 0. 0. 0. 0.]\n",
            " [0. 0. 0. 0. 0. 0. 1. 0. 0. 0.]\n",
            " [0. 0. 0. 0. 0. 0. 1. 0. 0. 0.]\n",
            " [0. 0. 0. 0. 0. 1. 0. 0. 0. 0.]\n",
            " [0. 0. 0. 0. 0. 1. 0. 0. 0. 0.]\n",
            " [0. 0. 0. 0. 0. 0. 0. 1. 0. 0.]\n",
            " [0. 0. 0. 0. 1. 0. 0. 0. 0. 0.]\n",
            " [0. 0. 0. 0. 0. 0. 0. 0. 0. 1.]\n",
            " [0. 0. 0. 0. 0. 0. 1. 0. 0. 0.]\n",
            " [0. 0. 0. 0. 0. 0. 1. 0. 0. 0.]\n",
            " [0. 0. 0. 0. 0. 1. 0. 0. 0. 0.]\n",
            " [0. 0. 1. 0. 0. 0. 0. 0. 0. 0.]\n",
            " [1. 0. 0. 0. 0. 0. 0. 0. 0. 0.]\n",
            " [0. 0. 0. 0. 0. 1. 0. 0. 0. 0.]\n",
            " [0. 0. 1. 0. 0. 0. 0. 0. 0. 0.]\n",
            " [0. 0. 0. 0. 0. 0. 0. 1. 0. 0.]\n",
            " [0. 0. 0. 0. 0. 0. 0. 0. 1. 0.]\n",
            " [0. 0. 0. 0. 0. 0. 0. 1. 0. 0.]\n",
            " [0. 0. 0. 0. 0. 0. 0. 1. 0. 0.]\n",
            " [1. 0. 0. 0. 0. 0. 0. 0. 0. 0.]\n",
            " [0. 1. 0. 0. 0. 0. 0. 0. 0. 0.]\n",
            " [0. 0. 1. 0. 0. 0. 0. 0. 0. 0.]\n",
            " [0. 0. 0. 1. 0. 0. 0. 0. 0. 0.]\n",
            " [0. 0. 0. 0. 0. 1. 0. 0. 0. 0.]\n",
            " [0. 0. 0. 0. 0. 1. 0. 0. 0. 0.]\n",
            " [0. 0. 0. 0. 1. 0. 0. 0. 0. 0.]\n",
            " [0. 0. 0. 1. 0. 0. 0. 0. 0. 0.]\n",
            " [0. 0. 0. 0. 0. 0. 1. 0. 0. 0.]\n",
            " [0. 0. 0. 0. 0. 0. 0. 1. 0. 0.]\n",
            " [0. 0. 0. 0. 0. 0. 0. 1. 0. 0.]], shape=(32, 10), dtype=float32)\n"
          ]
        }
      ]
    },
    {
      "cell_type": "code",
      "source": [],
      "metadata": {
        "id": "LC5gK8MKKg-7"
      },
      "execution_count": null,
      "outputs": []
    }
  ]
}